{
 "cells": [
  {
   "cell_type": "markdown",
   "id": "f038e96b-a907-45da-bee5-6243a7416159",
   "metadata": {},
   "source": [
    "# Data Science Tools and Ecosystem"
   ]
  },
  {
   "cell_type": "markdown",
   "id": "5e31e63a-c4be-4c1a-83db-a155ad851807",
   "metadata": {
    "tags": []
   },
   "source": [
    "## Author\n",
    "Tim Burden"
   ]
  },
  {
   "cell_type": "markdown",
   "id": "24047080-15a8-440c-bf67-f2ef44dfaa36",
   "metadata": {},
   "source": [
    "In this notebook we will discuss data science tools and their ecosystems."
   ]
  },
  {
   "cell_type": "markdown",
   "id": "721dbdee-885c-48d9-a7a4-2f01b92c8c41",
   "metadata": {},
   "source": [
    "**Objectives:**\n",
    "\n",
    "- List of Popular Data Science Languages\n",
    "\n",
    "- List of Popular Data Science Libraries\n",
    "\n",
    "- List of Data Science Tools\n",
    "\n",
    "- Examples of arithmetic expressions in Python"
   ]
  },
  {
   "cell_type": "markdown",
   "id": "0a6947a3-ba27-4a0e-95ef-d4d8f568ab6e",
   "metadata": {},
   "source": [
    "Some of the most common languages used in data science are:\n",
    "\n",
    "1. Python\n",
    "2. SQL\n",
    "3. R\n",
    "4. Ruby"
   ]
  },
  {
   "cell_type": "markdown",
   "id": "e9911fde-14fb-4306-b23f-e938cac92035",
   "metadata": {},
   "source": [
    "Some of the most common libraries used in data science are:\n",
    "\n",
    "1. SciKit Learn\n",
    "2. Pandas\n",
    "3. TensorFlow\n",
    "4. MatPlotLib"
   ]
  },
  {
   "cell_type": "markdown",
   "id": "3eac9971-7d65-4756-ab46-d92fc74e6932",
   "metadata": {},
   "source": [
    "Data Science Tools|\n",
    "-----|\n",
    "Jupyter|\n",
    "Apache Zeppelin|\n",
    "R Studio"
   ]
  },
  {
   "cell_type": "markdown",
   "id": "ea0339e3-59b8-4648-b99d-6e34a9a159ca",
   "metadata": {},
   "source": [
    "### Here are a couple of examples of arithmetic expression in Python"
   ]
  },
  {
   "cell_type": "code",
   "execution_count": 3,
   "id": "fc0ead9d-410f-48d5-81c5-9060e6036a0a",
   "metadata": {
    "tags": []
   },
   "outputs": [
    {
     "data": {
      "text/plain": [
       "17"
      ]
     },
     "execution_count": 3,
     "metadata": {},
     "output_type": "execute_result"
    }
   ],
   "source": [
    "#This is a simple mathematical expression to multiply then add\n",
    "(3*4)+5"
   ]
  },
  {
   "cell_type": "code",
   "execution_count": 13,
   "id": "bb74aad7-0d00-4989-94d5-3f7836ee7741",
   "metadata": {
    "tags": []
   },
   "outputs": [
    {
     "data": {
      "text/plain": [
       "3.3333333333333335"
      ]
     },
     "execution_count": 13,
     "metadata": {},
     "output_type": "execute_result"
    }
   ],
   "source": [
    "#This expression below converts 200 minutes into hours by dividing by 60\n",
    "minutes = 200\n",
    "hours = minutes/60\n",
    "hours"
   ]
  }
 ],
 "metadata": {
  "kernelspec": {
   "display_name": "Python",
   "language": "python",
   "name": "conda-env-python-py"
  },
  "language_info": {
   "codemirror_mode": {
    "name": "ipython",
    "version": 3
   },
   "file_extension": ".py",
   "mimetype": "text/x-python",
   "name": "python",
   "nbconvert_exporter": "python",
   "pygments_lexer": "ipython3",
   "version": "3.7.12"
  }
 },
 "nbformat": 4,
 "nbformat_minor": 5
}
